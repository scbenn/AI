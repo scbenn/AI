{
 "cells": [
  {
   "cell_type": "code",
   "execution_count": 6,
   "id": "27d04de3",
   "metadata": {},
   "outputs": [],
   "source": [
    "import pandas as pd\n",
    "import numpy as np\n",
    "import tensorflow as tf\n",
    "import os\n",
    " \n",
    "import random\n",
    " \n",
    "# Seed value\n",
    "seed_value= 0\n",
    " \n",
    " \n",
    "os.environ['PYTHONHASHSEED']=str(seed_value)\n",
    " \n",
    " \n",
    "random.seed(seed_value)\n",
    " \n",
    "np.random.seed(seed_value)\n",
    " \n",
    "# 4. Set the `tensorflow` pseudo-random generator at a fixed value\n",
    "tf.random.set_seed(seed_value)\n",
    " \n",
    " \n",
    "# Suppress TensorFlow info logs\n",
    "os.environ['TF_CPP_MIN_LOG_LEVEL'] = '2'"
   ]
  },
  {
   "cell_type": "code",
   "execution_count": 7,
   "id": "f71f06ec",
   "metadata": {},
   "outputs": [],
   "source": [
    "# Create synthetic data for demonstration\n",
    "np.random.seed(0)\n",
    "data = {\n",
    "    'hour': np.random.randint(8, 18, size=200),  # Working hours from 8 AM to 5 PM\n",
    "    'day_of_week': np.random.randint(1, 6, size=200),  # Days Monday to Friday\n",
    "    'satisfaction': np.random.randint(1, 6, size=200)  # Satisfaction ratings from 1 to 5\n",
    "}\n",
    "df = pd.DataFrame(data)\n",
    " \n",
    "# Define a simple neural network model\n",
    "model = tf.keras.Sequential([\n",
    "    tf.keras.layers.Dense(10, activation='relu', input_shape=(2,)),  # Input layer for hour and day of the week\n",
    "    tf.keras.layers.Dense(1)  # Output layer to predict satisfaction\n",
    "])\n",
    " \n",
    "# Compile the model with the Adam optimizer and mean squared error as the loss function\n",
    "model.compile(optimizer='adam', loss='mean_squared_error')"
   ]
  },
  {
   "cell_type": "code",
   "execution_count": 9,
   "id": "5b48cf97",
   "metadata": {},
   "outputs": [
    {
     "name": "stdout",
     "output_type": "stream",
     "text": [
      "Epoch 1/20\n",
      "7/7 [==============================] - 0s 1ms/step - loss: 12.3240\n",
      "Epoch 2/20\n",
      "7/7 [==============================] - 0s 1ms/step - loss: 11.6904\n",
      "Epoch 3/20\n",
      "7/7 [==============================] - 0s 1ms/step - loss: 11.0715\n",
      "Epoch 4/20\n",
      "7/7 [==============================] - 0s 1ms/step - loss: 10.4850\n",
      "Epoch 5/20\n",
      "7/7 [==============================] - 0s 2ms/step - loss: 9.9276\n",
      "Epoch 6/20\n",
      "7/7 [==============================] - 0s 2ms/step - loss: 9.3979\n",
      "Epoch 7/20\n",
      "7/7 [==============================] - 0s 1ms/step - loss: 8.8823\n",
      "Epoch 8/20\n",
      "7/7 [==============================] - 0s 1ms/step - loss: 8.3933\n",
      "Epoch 9/20\n",
      "7/7 [==============================] - 0s 1ms/step - loss: 7.9242\n",
      "Epoch 10/20\n",
      "7/7 [==============================] - 0s 1ms/step - loss: 7.4547\n",
      "Epoch 11/20\n",
      "7/7 [==============================] - 0s 1ms/step - loss: 7.0282\n",
      "Epoch 12/20\n",
      "7/7 [==============================] - 0s 1ms/step - loss: 6.6233\n",
      "Epoch 13/20\n",
      "7/7 [==============================] - 0s 1ms/step - loss: 6.2260\n",
      "Epoch 14/20\n",
      "7/7 [==============================] - 0s 1ms/step - loss: 5.8603\n",
      "Epoch 15/20\n",
      "7/7 [==============================] - 0s 1ms/step - loss: 5.5243\n",
      "Epoch 16/20\n",
      "7/7 [==============================] - 0s 1ms/step - loss: 5.2045\n",
      "Epoch 17/20\n",
      "7/7 [==============================] - 0s 1ms/step - loss: 4.9070\n",
      "Epoch 18/20\n",
      "7/7 [==============================] - 0s 1ms/step - loss: 4.6301\n",
      "Epoch 19/20\n",
      "7/7 [==============================] - 0s 1ms/step - loss: 4.3657\n",
      "Epoch 20/20\n",
      "7/7 [==============================] - 0s 1ms/step - loss: 4.1254\n",
      "7/7 [==============================] - 0s 1ms/step - loss: 3.9869\n",
      "Model Loss: 3.99\n",
      "1/1 [==============================] - 0s 22ms/step\n",
      "Predicted Satisfaction Scores: [1.2126309 1.7291762 2.2363276]\n"
     ]
    }
   ],
   "source": [
    "# Prepare features and labels for training\n",
    "features = df[['hour', 'day_of_week']]\n",
    "labels = df['satisfaction']\n",
    " \n",
    "# Train the model\n",
    "model.fit(features, labels, epochs=20, verbose=1)\n",
    " \n",
    "# Evaluate the model's performance\n",
    "loss = model.evaluate(features, labels)\n",
    "print(f'Model Loss: {loss:.2f}')\n",
    " \n",
    "# Predict satisfaction scores for new appointment times\n",
    "new_appointments = pd.DataFrame({\n",
    "    'hour': [9, 14, 17],  # Example hours: 9 AM, 2 PM, 5 PM\n",
    "    'day_of_week': [2, 3, 5]  # Example days: Tuesday, Wednesday, Friday\n",
    "})\n",
    "predictions = model.predict(new_appointments)\n",
    "print(\"Predicted Satisfaction Scores:\", predictions.flatten())"
   ]
  },
  {
   "cell_type": "code",
   "execution_count": 10,
   "id": "0e346ff4",
   "metadata": {},
   "outputs": [
    {
     "name": "stdout",
     "output_type": "stream",
     "text": [
      "2/2 [==============================] - 0s 3ms/step\n",
      "Best times for scheduling appointments:\n",
      "Hour: 17, Day of Week: 5\n",
      "Hour: 16, Day of Week: 5\n",
      "Hour: 17, Day of Week: 4\n",
      "Hour: 15, Day of Week: 5\n",
      "Hour: 16, Day of Week: 4\n",
      "Hour: 14, Day of Week: 5\n",
      "Hour: 17, Day of Week: 3\n",
      "Hour: 15, Day of Week: 4\n",
      "Hour: 13, Day of Week: 5\n",
      "Hour: 16, Day of Week: 3\n"
     ]
    }
   ],
   "source": [
    "# Predict satisfaction scores for each hour of each workday\n",
    "hours = np.arange(8, 18)  # Business hours from 8 AM to 5 PM\n",
    "days = np.arange(1, 6)    # Monday to Friday\n",
    "all_appointments = np.array(np.meshgrid(hours, days)).T.reshape(-1, 2)\n",
    " \n",
    "predictions = model.predict(all_appointments)\n",
    "predicted_satisfaction = predictions.flatten()\n",
    " \n",
    "# Find the times with the highest predicted satisfaction scores\n",
    "max_satisfaction_indices = np.argsort(-predicted_satisfaction)[:10]  # Get indices of top 10\n",
    "best_times = all_appointments[max_satisfaction_indices]\n",
    " \n",
    "print(\"Best times for scheduling appointments:\")\n",
    "for time in best_times:\n",
    "    print(f\"Hour: {time[0]}, Day of Week: {time[1]}\")"
   ]
  }
 ],
 "metadata": {
  "kernelspec": {
   "display_name": "Python 3 (ipykernel)",
   "language": "python",
   "name": "python3"
  },
  "language_info": {
   "codemirror_mode": {
    "name": "ipython",
    "version": 3
   },
   "file_extension": ".py",
   "mimetype": "text/x-python",
   "name": "python",
   "nbconvert_exporter": "python",
   "pygments_lexer": "ipython3",
   "version": "3.7.13"
  }
 },
 "nbformat": 4,
 "nbformat_minor": 5
}
